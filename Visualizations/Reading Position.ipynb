{
 "cells": [
  {
   "cell_type": "code",
   "execution_count": 1,
   "metadata": {},
   "outputs": [],
   "source": [
    "import numpy as np"
   ]
  },
  {
   "cell_type": "code",
   "execution_count": 2,
   "metadata": {},
   "outputs": [],
   "source": [
    "colliders_file = '../colliders.csv'"
   ]
  },
  {
   "cell_type": "code",
   "execution_count": 3,
   "metadata": {},
   "outputs": [
    {
     "name": "stdout",
     "output_type": "stream",
     "text": [
      "37.792480,-122.397450\n"
     ]
    },
    {
     "name": "stderr",
     "output_type": "stream",
     "text": [
      "/Users/darienmt/miniconda3/envs/fcnd/lib/python3.6/site-packages/ipykernel_launcher.py:14: DeprecationWarning: Numeric-style type codes are deprecated and will result in an error in the future.\n",
      "  \n"
     ]
    }
   ],
   "source": [
    "import re\n",
    "\n",
    "def read_home(filename):\n",
    "    \"\"\"\n",
    "    Reads home (lat, lon) from the first line of the `file`. \n",
    "    \"\"\"\n",
    "    with open(filename) as f:\n",
    "        first_line = f.readline()\n",
    "    match = re.match(r'^lat0 (.*), lon0 (.*)$', first_line)\n",
    "    if match:\n",
    "        lat = match.group(1)\n",
    "        lon = match.group(2)\n",
    "    print(f'{lat},{lon}')\n",
    "    return np.fromstring(f'{lat},{lon}', dtype='Float64', sep=',')\n",
    "        \n",
    "lat, lon = read_home(colliders_file)"
   ]
  },
  {
   "cell_type": "code",
   "execution_count": 4,
   "metadata": {},
   "outputs": [
    {
     "name": "stdout",
     "output_type": "stream",
     "text": [
      "lat : 37.79248, lon: -122.39745\n"
     ]
    }
   ],
   "source": [
    "print(f'lat : {lat}, lon: {lon}')"
   ]
  },
  {
   "cell_type": "code",
   "execution_count": null,
   "metadata": {},
   "outputs": [],
   "source": []
  }
 ],
 "metadata": {
  "kernelspec": {
   "display_name": "Python 3",
   "language": "python",
   "name": "python3"
  },
  "language_info": {
   "codemirror_mode": {
    "name": "ipython",
    "version": 3
   },
   "file_extension": ".py",
   "mimetype": "text/x-python",
   "name": "python",
   "nbconvert_exporter": "python",
   "pygments_lexer": "ipython3",
   "version": "3.6.3"
  }
 },
 "nbformat": 4,
 "nbformat_minor": 2
}
